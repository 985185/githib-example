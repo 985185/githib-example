{
 "cells": [
  {
   "cell_type": "markdown",
   "metadata": {},
   "source": [
    "# Peer Graded Assignment "
   ]
  },
  {
   "cell_type": "markdown",
   "metadata": {},
   "source": [
    "## Capstone Project \n",
    "Week 4 Part 1\n"
   ]
  },
  {
   "cell_type": "markdown",
   "metadata": {},
   "source": [
    "### Executive summary"
   ]
  },
  {
   "cell_type": "markdown",
   "metadata": {},
   "source": [
    "My client targets to open a food place that will be situated in Perth, Wa but is not able to figure out that type of eating place it will be. He wants the food place to be in the Perth CBD region where the footfall is the highest and the ROI will be higher.\n",
    "\n",
    "He has given us the following guidelines.\n"
   ]
  },
  {
   "cell_type": "markdown",
   "metadata": {},
   "source": [
    "My client targets to open a food place that will be situated in Perth, Wa but is not able to figure out that type of eating place it will be. He wants the food place to be in the Perth CBD region where the footfall is the highest and the ROI will be higher.\n",
    "\n",
    "He has given us the following guidelines.\n"
   ]
  },
  {
   "cell_type": "markdown",
   "metadata": {},
   "source": [
    "\n",
    "### Cuisine\n",
    "He has not made up his choice in the cuisine type and needs our help in deciding that. The only criteria being that there should not be a similar cuisine in immediate vicinity. We have the freedom to choose the cuisine for him. He does not want to open a burger joint next to a burger joint to be in competition with him. The data might say that there are no more burger joints in the next 10 km but that does not mean that he opens one in the same food court. He wants to use Data and Common sense.\n",
    "\n",
    "### Clientele\n",
    "The client wants to target customers for breakfast and lunch as he does not expect much of night life in the CBD area.\n",
    "\n",
    "\n",
    "### About the location\n",
    "\n",
    "Perth is the capital city of Western Australia. It's the mining capital of the country. Its average per capita income is about $91,000. It's only second to Canberra which sits at ~$95,000. This is above the average Per Capita of Australia ~$83,000.\n",
    "\n",
    "According to 2011 census, the main occupations of people living in Perth are 22.0% Professionals, 16.0% Technicians & trades workers, 15.2% Clerical & administrative workers, 11.4% Managers, 9.7% Community & personal service workers, 9.0% Sales workers, 8.8% Labourers, 6.5% Machinery operators & drivers, 1.4% Occupation inadequately described/ Not stated.\n",
    "\n",
    "The people working in the Perth CBD are expected to be prossionals with an Median salary of $120,000.\n",
    "\n",
    "With this is mind we need to collect data,  analyse and recommend him from the location to the cuisine he needs to succeed in Perth CBD.\n",
    "According to 2011 census, the main occupations of people living in Perth are 22.0% Professionals, 16.0% Technicians & trades workers, 15.2% Clerical & administrative workers, 11.4% Managers, 9.7% Community & personal service workers, 9.0% Sales workers, 8.8% Labourers, 6.5% Machinery operators & drivers, 1.4% Occupation inadequately described/ Not stated. The median age is 36 for Perth which is also the age group we want to target.\n"
   ]
  },
  {
   "cell_type": "code",
   "execution_count": null,
   "metadata": {},
   "outputs": [],
   "source": []
  }
 ],
 "metadata": {
  "kernelspec": {
   "display_name": "Python 2",
   "language": "python",
   "name": "python2"
  },
  "language_info": {
   "codemirror_mode": {
    "name": "ipython",
    "version": 2
   },
   "file_extension": ".py",
   "mimetype": "text/x-python",
   "name": "python",
   "nbconvert_exporter": "python",
   "pygments_lexer": "ipython2",
   "version": "2.7.15"
  }
 },
 "nbformat": 4,
 "nbformat_minor": 2
}
